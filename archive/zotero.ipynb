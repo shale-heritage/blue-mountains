{
 "cells": [
  {
   "cell_type": "markdown",
   "metadata": {},
   "source": [
    "# Blue Mountains Shale Mining Communities\n",
    "\n",
    "An ARC Linkage Project led by Tanya Evans at Macquarie University exploring the history and archaeology of shale mining communities in the Jameison Valley and Nellie's Glen (near Katoomba, NSW, Australia)."
   ]
  },
  {
   "cell_type": "markdown",
   "metadata": {},
   "source": [
    "## Setup"
   ]
  },
  {
   "cell_type": "code",
   "execution_count": 1,
   "metadata": {},
   "outputs": [
    {
     "name": "stdout",
     "output_type": "stream",
     "text": [
      "Collecting pyzotero (from -r requirements.txt (line 1))\n",
      "  Obtaining dependency information for pyzotero from https://files.pythonhosted.org/packages/9a/f6/2c80f11a128cf854d6bb90c77976fc60520cd1e1c351c445697b8c35c17b/pyzotero-1.5.20-py3-none-any.whl.metadata\n",
      "  Downloading pyzotero-1.5.20-py3-none-any.whl.metadata (5.4 kB)\n",
      "Collecting feedparser>=6.0.11 (from pyzotero->-r requirements.txt (line 1))\n",
      "  Obtaining dependency information for feedparser>=6.0.11 from https://files.pythonhosted.org/packages/7c/d4/8c31aad9cc18f451c49f7f9cfb5799dadffc88177f7917bc90a66459b1d7/feedparser-6.0.11-py3-none-any.whl.metadata\n",
      "  Downloading feedparser-6.0.11-py3-none-any.whl.metadata (2.4 kB)\n",
      "Requirement already satisfied: pytz in /home/shawn/anaconda3/lib/python3.11/site-packages (from pyzotero->-r requirements.txt (line 1)) (2024.1)\n",
      "Requirement already satisfied: requests>=2.21.0 in /home/shawn/anaconda3/lib/python3.11/site-packages (from pyzotero->-r requirements.txt (line 1)) (2.31.0)\n",
      "Collecting bibtexparser (from pyzotero->-r requirements.txt (line 1))\n",
      "  Downloading bibtexparser-1.4.1.tar.gz (55 kB)\n",
      "\u001b[2K     \u001b[90m━━━━━━━━━━━━━━━━━━━━━━━━━━━━━━━━━━━━━━━━\u001b[0m \u001b[32m55.1/55.1 kB\u001b[0m \u001b[31m7.4 MB/s\u001b[0m eta \u001b[36m0:00:00\u001b[0m\n",
      "\u001b[?25h  Preparing metadata (setup.py) ... \u001b[?25ldone\n",
      "\u001b[?25hCollecting sgmllib3k (from feedparser>=6.0.11->pyzotero->-r requirements.txt (line 1))\n",
      "  Downloading sgmllib3k-1.0.0.tar.gz (5.8 kB)\n",
      "  Preparing metadata (setup.py) ... \u001b[?25ldone\n",
      "\u001b[?25hRequirement already satisfied: charset-normalizer<4,>=2 in /home/shawn/anaconda3/lib/python3.11/site-packages (from requests>=2.21.0->pyzotero->-r requirements.txt (line 1)) (3.3.2)\n",
      "Requirement already satisfied: idna<4,>=2.5 in /home/shawn/anaconda3/lib/python3.11/site-packages (from requests>=2.21.0->pyzotero->-r requirements.txt (line 1)) (3.7)\n",
      "Requirement already satisfied: urllib3<3,>=1.21.1 in /home/shawn/anaconda3/lib/python3.11/site-packages (from requests>=2.21.0->pyzotero->-r requirements.txt (line 1)) (2.2.1)\n",
      "Requirement already satisfied: certifi>=2017.4.17 in /home/shawn/anaconda3/lib/python3.11/site-packages (from requests>=2.21.0->pyzotero->-r requirements.txt (line 1)) (2024.2.2)\n",
      "Requirement already satisfied: pyparsing>=2.0.3 in /home/shawn/anaconda3/lib/python3.11/site-packages (from bibtexparser->pyzotero->-r requirements.txt (line 1)) (3.1.2)\n",
      "Downloading pyzotero-1.5.20-py3-none-any.whl (22 kB)\n",
      "Downloading feedparser-6.0.11-py3-none-any.whl (81 kB)\n",
      "\u001b[2K   \u001b[90m━━━━━━━━━━━━━━━━━━━━━━━━━━━━━━━━━━━━━━━━\u001b[0m \u001b[32m81.3/81.3 kB\u001b[0m \u001b[31m32.7 MB/s\u001b[0m eta \u001b[36m0:00:00\u001b[0m\n",
      "\u001b[?25hBuilding wheels for collected packages: bibtexparser, sgmllib3k\n",
      "  Building wheel for bibtexparser (setup.py) ... \u001b[?25ldone\n",
      "\u001b[?25h  Created wheel for bibtexparser: filename=bibtexparser-1.4.1-py3-none-any.whl size=43255 sha256=1a818061847504749a800b13aeb4fae0b0372feebd9db7481f21547232064277\n",
      "  Stored in directory: /home/shawn/.cache/pip/wheels/d6/93/c0/58e9981a8f55db19a654503072b50ede34bbcc8e7db5908a84\n",
      "  Building wheel for sgmllib3k (setup.py) ... \u001b[?25ldone\n",
      "\u001b[?25h  Created wheel for sgmllib3k: filename=sgmllib3k-1.0.0-py3-none-any.whl size=6047 sha256=23117411b685ab0a01550f6f683e2944cb8ccdbb5f7915fd891f41aaa7ad5c69\n",
      "  Stored in directory: /home/shawn/.cache/pip/wheels/3b/25/2a/105d6a15df6914f4d15047691c6c28f9052cc1173e40285d03\n",
      "Successfully built bibtexparser sgmllib3k\n",
      "Installing collected packages: sgmllib3k, feedparser, bibtexparser, pyzotero\n",
      "Successfully installed bibtexparser-1.4.1 feedparser-6.0.11 pyzotero-1.5.20 sgmllib3k-1.0.0\n"
     ]
    }
   ],
   "source": [
    "# Requirements are defined in a text file.\n",
    "import sys\n",
    "!{sys.executable} -m pip install -r requirements.txt"
   ]
  },
  {
   "cell_type": "markdown",
   "metadata": {},
   "source": [
    "## Zotero quality control"
   ]
  },
  {
   "cell_type": "markdown",
   "metadata": {},
   "source": [
    "### Test Zotero API Access"
   ]
  },
  {
   "cell_type": "markdown",
   "metadata": {},
   "source": [
    "To the library associated with the 'Blue Mountains Shale Mining Communities' group"
   ]
  },
  {
   "cell_type": "code",
   "execution_count": 5,
   "metadata": {},
   "outputs": [
    {
     "name": "stdout",
     "output_type": "stream",
     "text": [
      "Supreme Court, Sydney.\n",
      "A Charge of Rape.\n",
      "NARROW ESCAPE OF SHALE STACK.\n",
      "Bulli and Woonona.\n",
      "Katoomba Items.\n",
      "Local Jottings.\n",
      "News in Brief\n",
      "Mountain Mixtures.\n",
      "Mountain Mixtures.\n",
      "Megalong Matters.\n",
      "Megalong Matters.\n",
      "Town Talk.\n",
      "Mountain Mixtures.\n",
      "Jottings.\n",
      "Local Jottings.\n",
      "Social at Hartley Vale.\n",
      "Town Talk.\n",
      "The Target.\n",
      "Moutains Mixtures.\n",
      "Mountain Mixtures.\n",
      "Girls Cricket Match at Katoomba.\n",
      "The Rockley Game.\n",
      "Mountain Mixtures.\n",
      "Hartley Vale.\n",
      "Megalong Matters.\n",
      "Megalong Valley.\n",
      "Katoomba Police Court.\n",
      "Granted\n",
      "Better Than Free\n",
      "Mountain Mixtures.\n",
      "Mountain Mixtures.\n",
      "Katoomba.\n",
      "Mountain Mixtures.\n",
      "Mountain Mixtures.\n",
      "Mines School of Arts.\n",
      "Town Talk.\n",
      "Local Jottings.\n",
      "Sporting.\n",
      "Footballers' Social at Hartley Vale.\n",
      "Local Jottings.\n",
      "Mountain Mixtures.\n",
      "Mountain Mixtures.\n",
      "Mountain Mixtures.\n",
      "A.K.O. & M. Co.'s Meeting.\n",
      "News in Brief.\n",
      "Blue Mountains Railway Tourist Guide\n",
      "The Passing of a Mountaineer. Vale! Joseph Nimmo.\n",
      "Death of Mrs. Nimmo\n",
      "Concert in Aid of Katoomba Miners' Families.\n",
      "Mountain Mixtures.\n",
      "Brevities.\n",
      "Lawson.\n",
      "Summary\n",
      "The Unemployed at Katoomba.\n",
      "[untitled]\n",
      "Catalogue of the Australian Kerosene Oil & Mineral Company Limited.\n",
      "The Collieries and Big-Head Mines of New South Wales\n",
      "Eaton, Elizabeth Ann.\n",
      "Return Thanks\n",
      "Deserting Wives and Families, Service, &c.\n",
      "Kembla Disaster Survivor: Death of Mr. J. J. Meredith\n",
      "Deaths, Eaton\n",
      "Rockley Was Cricket For Girls 130 Years Ago - They Visited Narrabeen Too!\n",
      "Funerals\n",
      "Funerals. Eaton.\n",
      "Funeral Notice\n",
      "Mrs. G. Battram.\n",
      "Alfred Jones\n",
      "Obituary.\n",
      "To-Day's Further Court Proceedings\n",
      "Waudby's Corner\n",
      "Colliery Fatality. The Death of Mr. W. Meredith\n",
      "Unregistered Dogs.\n",
      "Marriages.\n",
      "Burglaries, etc.\n",
      "Holmesville\n",
      "Meredith\n",
      "West Wallsend.\n",
      "Mr. Edward Delaney\n",
      "Silverton Police Court.\n",
      "District Casualities.\n",
      "Spinning Jenny at Races Gets Man Into Trouble\n",
      "Alleged Stealing.\n",
      "Brevities.\n",
      "Roll of Honor.\n",
      "Wedding Bells. Bebbington-Austin.\n",
      "Parramatta Quarter Sessions.\n",
      "District News.\n",
      "Auction Sale\n",
      "[Notice about the liquidation of Dougals & Co. Ltd.]\n",
      "Deserting Wives and Families, Service, etc.\n",
      "Death of Major Gordon\n",
      "The Late Major Gordon\n",
      "Dynamiting A Goat.\n",
      "Bulli Shire Council.\n",
      "Scarborough.\n",
      "Typhoid At Clifton. Four Cases in One Family.\n",
      "West Wallsend.\n",
      "An Innocent Bigamist.\n",
      "Death of Mrs Waudby.\n",
      "Total number of items: 100\n"
     ]
    }
   ],
   "source": [
    "from pyzotero import zotero\n",
    "\n",
    "# Zotero user (library) ID, group ID (for Blue Mountains Shale Mining Communities group) and API key\n",
    "library_id = '3097511'\n",
    "group_id = '2258643'\n",
    "api_key = 'MgRt9KeLFoHt36MC8X4qyQLt'\n",
    "\n",
    "# Create a Zotero library instance for the group\n",
    "zot = zotero.Zotero(group_id, 'group', api_key)\n",
    "\n",
    "# Test by retrieving your top-level items\n",
    "items = zot.top()\n",
    "\n",
    "# Print the titles of your items\n",
    "for item in items:\n",
    "    print(item['data']['title'])\n",
    "\n",
    "# Print the total number of items\n",
    "print(f\"Total number of items: {len(items)}\")\n",
    "\n"
   ]
  },
  {
   "cell_type": "code",
   "execution_count": null,
   "metadata": {},
   "outputs": [],
   "source": []
  },
  {
   "cell_type": "markdown",
   "metadata": {},
   "source": []
  }
 ],
 "metadata": {
  "kernelspec": {
   "display_name": "base",
   "language": "python",
   "name": "python3"
  },
  "language_info": {
   "codemirror_mode": {
    "name": "ipython",
    "version": 3
   },
   "file_extension": ".py",
   "mimetype": "text/x-python",
   "name": "python",
   "nbconvert_exporter": "python",
   "pygments_lexer": "ipython3",
   "version": "3.11.5"
  }
 },
 "nbformat": 4,
 "nbformat_minor": 2
}
